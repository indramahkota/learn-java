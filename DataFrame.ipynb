{
 "cells": [
  {
   "cell_type": "code",
   "execution_count": 1,
   "id": "5bb977eb-2a07-41bd-8ef3-0342a28bab45",
   "metadata": {
    "tags": []
   },
   "outputs": [],
   "source": [
    "%maven org.dflib:dflib-jupyter:1.0.0"
   ]
  },
  {
   "cell_type": "code",
   "execution_count": 2,
   "id": "fb817981-ef85-4d4c-b5f0-802167b62bf3",
   "metadata": {
    "tags": []
   },
   "outputs": [
    {
     "data": {
      "text/html": [
       "<script type='text/javascript' src='https://cdn.jsdelivr.net/npm/echarts@5.5.1/dist/echarts.min.js'></script>\n",
       "<div id='dfl_ech_1206' style='width: 600px;height:400px;'></div>\n",
       "<script type='text/javascript'>\n",
       "    var chart_dfl_ech_1206 = echarts.init(\n",
       "        document.getElementById('dfl_ech_1206'),\n",
       "        null,\n",
       "   );\n",
       "    var option_dfl_ech_1206 = {\n",
       "        dataset: {\n",
       "            source: [\n",
       "                ['L0','J. Cosin','J. O\\'Hara','J. Walewski'],\n",
       "                ['salary',120000,95000,80000]\n",
       "            ]\n",
       "        },\n",
       "        xAxis: [\n",
       "        {\n",
       "            type: 'category'\n",
       "        },\n",
       "        ],\n",
       "        yAxis: [\n",
       "        {\n",
       "            type: 'value'\n",
       "        },\n",
       "        ],\n",
       "        series: [\n",
       "            {\n",
       "                name: 'salary',\n",
       "                encode: {\n",
       "                    x: 0,\n",
       "                    y: 1,\n",
       "                },\n",
       "                seriesLayoutBy: 'row',\n",
       "                type: 'bar'\n",
       "            },\n",
       "        ]\n",
       "    };\n",
       "    option_dfl_ech_1206 && chart_dfl_ech_1206.setOption(option_dfl_ech_1206);</script>"
      ],
      "text/plain": [
       "<script type='text/javascript' src='https://cdn.jsdelivr.net/npm/echarts@5.5.1/dist/echarts.min.js'></script>\n",
       "<div id='dfl_ech_1206' style='width: 600px;height:400px;'></div>\n",
       "<script type='text/javascript'>\n",
       "    var chart_dfl_ech_1206 = echarts.init(\n",
       "        document.getElementById('dfl_ech_1206'),\n",
       "        null,\n",
       "   );\n",
       "    var option_dfl_ech_1206 = {\n",
       "        dataset: {\n",
       "            source: [\n",
       "                ['L0','J. Cosin','J. O\\'Hara','J. Walewski'],\n",
       "                ['salary',120000,95000,80000]\n",
       "            ]\n",
       "        },\n",
       "        xAxis: [\n",
       "        {\n",
       "            type: 'category'\n",
       "        },\n",
       "        ],\n",
       "        yAxis: [\n",
       "        {\n",
       "            type: 'value'\n",
       "        },\n",
       "        ],\n",
       "        series: [\n",
       "            {\n",
       "                name: 'salary',\n",
       "                encode: {\n",
       "                    x: 0,\n",
       "                    y: 1,\n",
       "                },\n",
       "                seriesLayoutBy: 'row',\n",
       "                type: 'bar'\n",
       "            },\n",
       "        ]\n",
       "    };\n",
       "    option_dfl_ech_1206 && chart_dfl_ech_1206.setOption(option_dfl_ech_1206);</script>"
      ]
     },
     "execution_count": 2,
     "metadata": {},
     "output_type": "execute_result"
    }
   ],
   "source": [
    "import org.dflib.echarts.*;\n",
    "\n",
    "DataFrame df = DataFrame.foldByRow(\"name\", \"salary\").of(\n",
    "                \"J. Cosin\", 120000,\n",
    "                \"J. Walewski\", 80000,\n",
    "                \"J. O'Hara\", 95000)\n",
    "        .sort($col(\"salary\").desc());\n",
    "\n",
    "var chart = ECharts\n",
    "        .chart()\n",
    "        .xAxis(\"name\")\n",
    "        .series(SeriesOpts.ofBar(), \"salary\")\n",
    "        .plot(df);\n",
    "\n",
    "        chart;"
   ]
  },
  {
   "cell_type": "code",
   "execution_count": null,
   "id": "14564da8-a93e-4781-86df-bd9603cc7c35",
   "metadata": {},
   "outputs": [],
   "source": []
  }
 ],
 "metadata": {
  "kernelspec": {
   "display_name": "java (JJava/j!)",
   "language": "java",
   "name": "jbang-jjava"
  },
  "language_info": {
   "codemirror_mode": "java",
   "file_extension": ".jshell",
   "mimetype": "text/x-java-source",
   "name": "Java",
   "pygments_lexer": "java",
   "version": "21.0.5+11-LTS"
  }
 },
 "nbformat": 4,
 "nbformat_minor": 5
}
