{
 "cells": [
  {
   "cell_type": "markdown",
   "id": "77cd83a9-d0b1-4d8f-8447-9be97d82b1f0",
   "metadata": {},
   "source": [
    "Error: overridde final method"
   ]
  },
  {
   "cell_type": "code",
   "execution_count": 13,
   "id": "1757d481-d3f0-4f2f-a61b-5110d0de7652",
   "metadata": {
    "tags": []
   },
   "outputs": [
    {
     "ename": "CompilationException",
     "evalue": "",
     "output_type": "error",
     "traceback": [
      "\u001b[1m\u001b[30m|   \u001b[1m\u001b[30m    \u001b[0m\u001b[1m\u001b[30m\u001b[41mvoid display() {\u001b[0m",
      "\u001b[1m\u001b[30m|   \u001b[1m\u001b[30m\u001b[41m        System.out.println(\"Hi\");\u001b[0m",
      "\u001b[1m\u001b[30m|   \u001b[1m\u001b[30m\u001b[41m    }\u001b[0m",
      "\u001b[1m\u001b[31mdisplay() in SubTest cannot override display() in Test\u001b[0m",
      "\u001b[1m\u001b[31m  overridden method is final\u001b[0m",
      ""
     ]
    }
   ],
   "source": [
    "class Test {\n",
    "    final void display() {\n",
    "        System.out.println(\"Hello\");\n",
    "    }\n",
    "}\n",
    "\n",
    "class SubTest extends Test {\n",
    "    void display() {\n",
    "        System.out.println(\"Hi\");\n",
    "    }\n",
    "}\n"
   ]
  },
  {
   "cell_type": "code",
   "execution_count": 14,
   "id": "055e808c-e1a9-492b-86df-aaeb21f29b48",
   "metadata": {
    "tags": []
   },
   "outputs": [
    {
     "name": "stdout",
     "output_type": "stream",
     "text": [
      "30Java1020\n"
     ]
    }
   ],
   "source": [
    "System.out.println(10 + 20 + \"Java\" + 10 + 20);\n"
   ]
  },
  {
   "cell_type": "code",
   "execution_count": 15,
   "id": "4f790369-b8db-4680-bb33-f1efdcf258d6",
   "metadata": {
    "tags": []
   },
   "outputs": [
    {
     "name": "stdout",
     "output_type": "stream",
     "text": [
      "12\n"
     ]
    }
   ],
   "source": [
    "int x = 5;\n",
    "System.out.println(x++ + ++x);"
   ]
  }
 ],
 "metadata": {
  "kernelspec": {
   "display_name": "java (JJava/j!)",
   "language": "java",
   "name": "jbang-jjava"
  },
  "language_info": {
   "codemirror_mode": "java",
   "file_extension": ".jshell",
   "mimetype": "text/x-java-source",
   "name": "Java",
   "pygments_lexer": "java",
   "version": "21.0.5+11-LTS"
  }
 },
 "nbformat": 4,
 "nbformat_minor": 5
}
