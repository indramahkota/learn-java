{
 "cells": [
  {
   "cell_type": "markdown",
   "id": "40d61769-54ea-46cd-a1be-23d2cb505ed7",
   "metadata": {},
   "source": [
    "# 1. Byte\n",
    "\n",
    "Tipe data integer 8 bit yang digunakan untuk menampung angka dalam range yang kecil. Nilai minimum dan maksimum dari tipe data ini adalah -128, dan 127. Tipe data byte memiliki nilai default 0. Ia digunakan untuk menghemat ruang dalam array yang besar, terutama pada bilangan bulat, karena 1 (satu) byte 4 (empat) kali lebih kecil dari tipe data int."
   ]
  },
  {
   "cell_type": "code",
   "execution_count": 65,
   "id": "fadc0ca3-3248-4368-950a-b4d2cfbb8215",
   "metadata": {
    "tags": []
   },
   "outputs": [
    {
     "name": "stdout",
     "output_type": "stream",
     "text": [
      "10\n",
      "-10\n"
     ]
    }
   ],
   "source": [
    "byte value = 10;\n",
    "byte anotherValue = -10;\n",
    "\n",
    "System.out.println(value);\n",
    "System.out.println(anotherValue);"
   ]
  },
  {
   "cell_type": "markdown",
   "id": "b8da34db-679f-415b-a00f-42997bc52faf",
   "metadata": {},
   "source": [
    "# 2. Short\n",
    "\n",
    "Merupakan tipe data integer 16 bit yang digunakan untuk menampung angka dalam range menengah, yaitu antara -32,768 sampai 32,767. Sama seperti tipe sebelumnya, nilai default-nya 0. Ia bisa digunakan untuk menghemat memori seperti tipe data byte namun hanya 2 (dua) kali lebih kecil dari tipe data int."
   ]
  },
  {
   "cell_type": "code",
   "execution_count": 67,
   "id": "d46a0065-7edf-4409-ae0b-16d1ba9b8396",
   "metadata": {},
   "outputs": [
    {
     "name": "stdout",
     "output_type": "stream",
     "text": [
      "15000\n",
      "-20000\n"
     ]
    }
   ],
   "source": [
    "short value = 15000;\n",
    "short anotherValue = -20000;\n",
    "\n",
    "System.out.println(value);\n",
    "System.out.println(anotherValue);"
   ]
  },
  {
   "cell_type": "markdown",
   "id": "a8b366d6-c8a4-4ba8-a96e-e84b8e0dde28",
   "metadata": {},
   "source": [
    "# 3. Int\n",
    "\n",
    "Merupakan tipe data integer 32 bit yang digunakan untuk menyimpan angka dalam range cukup besar, yakni antara -2,147,483,648 sampai 2,147,483,647 dengan nilai default 0. Jika kita tidak memperhatikan penggunaan memori, tipe data inilah yang biasanya dipakai."
   ]
  },
  {
   "cell_type": "code",
   "execution_count": 69,
   "id": "797e2c70-6240-424a-b465-08d902c52249",
   "metadata": {
    "tags": []
   },
   "outputs": [
    {
     "name": "stdout",
     "output_type": "stream",
     "text": [
      "150000\n",
      "-200000\n"
     ]
    }
   ],
   "source": [
    "int value = 150000;\n",
    "int anotherValue = -200000;\n",
    "\n",
    "System.out.println(value);\n",
    "System.out.println(anotherValue);"
   ]
  },
  {
   "cell_type": "markdown",
   "id": "da43ec2e-2799-4d8b-9591-74e3592de905",
   "metadata": {},
   "source": [
    "# 4. Long\n",
    "\n",
    "Merupakan tipe data integer yang lebih besar jika dibandingkan dengan tipe data int. Ukurannya 64 bit dan bisa digunakan untuk menyimpan angka dengan range antara -9,223,372,036,854,775,808 sampai 9,223,372,036,854,775,807. Tipe data long memiliki nilai default 0L."
   ]
  },
  {
   "cell_type": "code",
   "execution_count": 71,
   "id": "e5afadb8-7379-453a-a528-396d53ebda0d",
   "metadata": {
    "tags": []
   },
   "outputs": [
    {
     "name": "stdout",
     "output_type": "stream",
     "text": [
      "150000\n",
      "-200000\n"
     ]
    }
   ],
   "source": [
    "long value = 150000L;\n",
    "long anotherValue = -200000L;\n",
    "\n",
    "System.out.println(value);\n",
    "System.out.println(anotherValue);"
   ]
  },
  {
   "cell_type": "markdown",
   "id": "3676d557-cace-4f76-94b8-8423d8451a72",
   "metadata": {},
   "source": [
    "# 5. Float\n",
    "\n",
    "Merupakan sebuah tipe data yang bisa digunakan untuk menampung angka desimal. Nilai default-nya 0.0f."
   ]
  },
  {
   "cell_type": "code",
   "execution_count": 73,
   "id": "6bfd83c4-24e8-417d-9b80-e42e3e4307d7",
   "metadata": {
    "tags": []
   },
   "outputs": [
    {
     "name": "stdout",
     "output_type": "stream",
     "text": [
      "3.5\n"
     ]
    }
   ],
   "source": [
    "float value = 3.5f;\n",
    "\n",
    "System.out.println(value);"
   ]
  },
  {
   "cell_type": "markdown",
   "id": "a5af7d5e-e530-4401-b2e6-34f0ff56db11",
   "metadata": {},
   "source": [
    "# 6. Double\n",
    "\n",
    "Merupakan sebuah tipe data yang mirip seperti tipe data float, namun memiliki kapasitas yang lebih besar. Nilai default-nya 0.0d."
   ]
  },
  {
   "cell_type": "code",
   "execution_count": 75,
   "id": "621ff256-c4a5-4665-9ecd-f0710e6c6929",
   "metadata": {
    "tags": []
   },
   "outputs": [
    {
     "name": "stdout",
     "output_type": "stream",
     "text": [
      "5.0\n"
     ]
    }
   ],
   "source": [
    "double value = 5.0;\n",
    "\n",
    "System.out.println(value);"
   ]
  },
  {
   "cell_type": "markdown",
   "id": "30cca2ff-5028-42c6-93e5-8ffec69b23f4",
   "metadata": {},
   "source": [
    "# 7. Boolean\n",
    "\n",
    "Merupakan sebuah tipe data yang memiliki 2 (dua) macam nilai, yaitu true dan false. Nilai default-nya false."
   ]
  },
  {
   "cell_type": "code",
   "execution_count": 77,
   "id": "52496c6e-83ad-4245-8777-c636998057f1",
   "metadata": {
    "tags": []
   },
   "outputs": [
    {
     "name": "stdout",
     "output_type": "stream",
     "text": [
      "true\n",
      "false\n"
     ]
    }
   ],
   "source": [
    "boolean value = true;\n",
    "boolean anotherValue = false;\n",
    "\n",
    "System.out.println(value);\n",
    "System.out.println(anotherValue);"
   ]
  },
  {
   "cell_type": "markdown",
   "id": "f72f52e0-1c0b-48fe-acbd-a5b5a165378f",
   "metadata": {},
   "source": [
    "# Char\n",
    "\n",
    "Merupakan sebuah tipe data yang bisa digunakan untuk menampung karakter. Nilai karakter tersebut dibungkus di dalam tanda ' '."
   ]
  },
  {
   "cell_type": "code",
   "execution_count": 79,
   "id": "68f4b4f2-c7a8-402a-85b9-017649c2c59b",
   "metadata": {
    "tags": []
   },
   "outputs": [
    {
     "name": "stdout",
     "output_type": "stream",
     "text": [
      "A\n"
     ]
    }
   ],
   "source": [
    "char value = 'A';\n",
    "\n",
    "System.out.println(value);"
   ]
  }
 ],
 "metadata": {
  "kernelspec": {
   "display_name": "java (JJava/j!)",
   "language": "java",
   "name": "jbang-jjava"
  },
  "language_info": {
   "codemirror_mode": "java",
   "file_extension": ".jshell",
   "mimetype": "text/x-java-source",
   "name": "Java",
   "pygments_lexer": "java",
   "version": "21.0.5+11-LTS"
  }
 },
 "nbformat": 4,
 "nbformat_minor": 5
}
