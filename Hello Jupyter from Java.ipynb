{
 "cells": [
  {
   "cell_type": "code",
   "execution_count": 8,
   "id": "3d332ca5",
   "metadata": {},
   "outputs": [
    {
     "name": "stdout",
     "output_type": "stream",
     "text": [
      "Hello, Jupyter!\n"
     ]
    }
   ],
   "source": [
    "// Using IJava, a Jupyter kernel for executing Java code.\n",
    "// export JAVA_TOOL_OPTIONS=\"--enable-preview\"\n",
    "// export IJAVA_COMPILER_OPTS=\"--enable-preview --source 21\"\n",
    "\n",
    "public class Greeter {\n",
    "    public static void greet(String name) {\n",
    "        // Java 21 preview, string templates\n",
    "        System.out.println(STR.\"Hello, \\{ name }!\"); \n",
    "    }\n",
    "}\n",
    "\n",
    "// Java 10, Local-Variable Type Inference\n",
    "var hello = new Greeter();\n",
    "hello.greet(\"Jupyter\");"
   ]
  }
 ],
 "metadata": {
  "kernelspec": {
   "display_name": "Java",
   "language": "java",
   "name": "java"
  },
  "language_info": {
   "codemirror_mode": "java",
   "file_extension": ".jshell",
   "mimetype": "text/x-java-source",
   "name": "Java",
   "pygments_lexer": "java",
   "version": "21+35"
  }
 },
 "nbformat": 4,
 "nbformat_minor": 5
}
