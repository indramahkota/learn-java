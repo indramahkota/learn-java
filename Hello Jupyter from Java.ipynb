{
 "cells": [
  {
   "cell_type": "code",
   "execution_count": 6,
   "id": "3d332ca5",
   "metadata": {
    "tags": []
   },
   "outputs": [
    {
     "name": "stdout",
     "output_type": "stream",
     "text": [
      "Hello, Jupyter!\n"
     ]
    }
   ],
   "source": [
    "// Using IJava, a Jupyter kernel for executing Java code.\n",
    "// export JAVA_TOOL_OPTIONS=\"--enable-preview\"\n",
    "// export IJAVA_COMPILER_OPTS=\"--enable-preview --source 21\"\n",
    "\n",
    "public class Greeter {\n",
    "    public static void greet(String name) {\n",
    "        // Java 21 preview, string templates\n",
    "        System.out.println(STR.\"Hello, \\{ name }!\"); \n",
    "    }\n",
    "}\n",
    "\n",
    "// Java 10, Local-Variable Type Inference\n",
    "var hello = new Greeter();\n",
    "hello.greet(\"Jupyter\");"
   ]
  }
 ],
 "metadata": {
  "kernelspec": {
   "display_name": "java (JJava/j!)",
   "language": "java",
   "name": "jbang-jjava"
  },
  "language_info": {
   "codemirror_mode": "java",
   "file_extension": ".jshell",
   "mimetype": "text/x-java-source",
   "name": "Java",
   "pygments_lexer": "java",
   "version": "21.0.5+11-LTS"
  }
 },
 "nbformat": 4,
 "nbformat_minor": 5
}
